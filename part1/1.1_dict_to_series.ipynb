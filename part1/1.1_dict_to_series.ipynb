{
 "cells": [
  {
   "cell_type": "markdown",
   "metadata": {
    "id": "diPbh0N3QtZJ"
   },
   "source": [
    "# 파이썬 딕셔너리(Dictionary) 객체를 판다스 시리즈(Series)로 변환"
   ]
  },
  {
   "cell_type": "code",
   "execution_count": 1,
   "metadata": {},
   "outputs": [
    {
     "name": "stdout",
     "output_type": "stream",
     "text": [
      "Requirement already satisfied: pandas in c:\\users\\sally\\sknpyworkspace\\streamlit\\lib\\site-packages (2.3.2)\n",
      "Requirement already satisfied: numpy>=1.26.0 in c:\\users\\sally\\sknpyworkspace\\streamlit\\lib\\site-packages (from pandas) (2.3.3)\n",
      "Requirement already satisfied: python-dateutil>=2.8.2 in c:\\users\\sally\\sknpyworkspace\\streamlit\\lib\\site-packages (from pandas) (2.9.0.post0)\n",
      "Requirement already satisfied: pytz>=2020.1 in c:\\users\\sally\\sknpyworkspace\\streamlit\\lib\\site-packages (from pandas) (2025.2)\n",
      "Requirement already satisfied: tzdata>=2022.7 in c:\\users\\sally\\sknpyworkspace\\streamlit\\lib\\site-packages (from pandas) (2025.2)\n",
      "Requirement already satisfied: six>=1.5 in c:\\users\\sally\\sknpyworkspace\\streamlit\\lib\\site-packages (from python-dateutil>=2.8.2->pandas) (1.17.0)\n",
      "Note: you may need to restart the kernel to use updated packages.\n"
     ]
    }
   ],
   "source": [
    "%pip install pandas "
   ]
  },
  {
   "cell_type": "code",
   "execution_count": null,
   "metadata": {
    "id": "PSJ0UQVYOkXc",
    "tags": []
   },
   "outputs": [],
   "source": [
    "# pandas 불러오기 (pyarrow 설치 권장합니다)\n",
    "import pandas as pd"
   ]
  },
  {
   "cell_type": "code",
   "execution_count": 3,
   "metadata": {
    "id": "n602AMaqO3nQ",
    "tags": []
   },
   "outputs": [],
   "source": [
    "# k:v 구조를 갖는 딕셔너리를 만들고, 변수 dict_data에 저장\n",
    "dict_data = {'a': 1, 'b': 2, 'c': 3}"
   ]
  },
  {
   "cell_type": "code",
   "execution_count": 5,
   "metadata": {
    "tags": []
   },
   "outputs": [
    {
     "data": {
      "text/plain": [
       "{'a': 1, 'b': 2, 'c': 3}"
      ]
     },
     "execution_count": 5,
     "metadata": {},
     "output_type": "execute_result"
    }
   ],
   "source": [
    "dict_data"
   ]
  },
  {
   "cell_type": "code",
   "execution_count": 4,
   "metadata": {
    "id": "v705ycNdO3qt",
    "tags": []
   },
   "outputs": [],
   "source": [
    "# 판다스 Series() 함수로 딕셔너리(dict_data)를 시리즈로 변환. 변수 sr에 저장\n",
    "sr = pd.Series(dict_data)"
   ]
  },
  {
   "cell_type": "code",
   "execution_count": 5,
   "metadata": {
    "tags": []
   },
   "outputs": [
    {
     "data": {
      "text/plain": [
       "pandas.core.series.Series"
      ]
     },
     "execution_count": 5,
     "metadata": {},
     "output_type": "execute_result"
    }
   ],
   "source": [
    "type(sr)"
   ]
  },
  {
   "cell_type": "code",
   "execution_count": 7,
   "metadata": {
    "colab": {
     "base_uri": "https://localhost:8080/"
    },
    "executionInfo": {
     "elapsed": 392,
     "status": "ok",
     "timestamp": 1706163078326,
     "user": {
      "displayName": "Steve",
      "userId": "13015281013241816762"
     },
     "user_tz": -540
    },
    "id": "n_h8PitoPGsh",
    "outputId": "cd952728-63b2-45ad-fa87-b6db8346696b",
    "tags": []
   },
   "outputs": [
    {
     "name": "stdout",
     "output_type": "stream",
     "text": [
      "<class 'pandas.core.series.Series'>\n"
     ]
    }
   ],
   "source": [
    "# 변수 sr의 자료형 출력\n",
    "print(type(sr))"
   ]
  },
  {
   "cell_type": "code",
   "execution_count": 8,
   "metadata": {
    "colab": {
     "base_uri": "https://localhost:8080/"
    },
    "executionInfo": {
     "elapsed": 262,
     "status": "ok",
     "timestamp": 1706163080574,
     "user": {
      "displayName": "Steve",
      "userId": "13015281013241816762"
     },
     "user_tz": -540
    },
    "id": "RHHBsBnqO3uh",
    "outputId": "ca137065-812e-40b4-9422-67e14d0f6556",
    "tags": []
   },
   "outputs": [
    {
     "name": "stdout",
     "output_type": "stream",
     "text": [
      "a    1\n",
      "b    2\n",
      "c    3\n",
      "dtype: int64\n"
     ]
    }
   ],
   "source": [
    "# 변수 sr에 저장되어 있는 시리즈 객체를 출력\n",
    "print(sr)"
   ]
  },
  {
   "cell_type": "code",
   "execution_count": 9,
   "metadata": {
    "colab": {
     "base_uri": "https://localhost:8080/"
    },
    "executionInfo": {
     "elapsed": 4,
     "status": "ok",
     "timestamp": 1706163104499,
     "user": {
      "displayName": "Steve",
      "userId": "13015281013241816762"
     },
     "user_tz": -540
    },
    "id": "6zaohdLAPont",
    "outputId": "7d93d3c5-9190-47c4-96ec-d58430b75c61",
    "tags": []
   },
   "outputs": [
    {
     "data": {
      "text/plain": [
       "a    1\n",
       "b    2\n",
       "c    3\n",
       "dtype: int64"
      ]
     },
     "execution_count": 9,
     "metadata": {},
     "output_type": "execute_result"
    }
   ],
   "source": [
    "# 주피터 환경에서 변수 출력\n",
    "sr"
   ]
  },
  {
   "cell_type": "code",
   "execution_count": null,
   "metadata": {},
   "outputs": [
    {
     "data": {
      "text/plain": [
       "10    1\n",
       "2     2\n",
       "3     3\n",
       "dtype: int64"
      ]
     },
     "execution_count": 15,
     "metadata": {},
     "output_type": "execute_result"
    }
   ],
   "source": [
    "# 리스트\n",
    "list_1 = [1,2,3]\n",
    "pd.Series(list_1, index = ['10','2','3'])"
   ]
  },
  {
   "cell_type": "code",
   "execution_count": null,
   "metadata": {},
   "outputs": [
    {
     "data": {
      "text/plain": [
       "10   NaN\n",
       "1    NaN\n",
       "dtype: float64"
      ]
     },
     "execution_count": 17,
     "metadata": {},
     "output_type": "execute_result"
    }
   ],
   "source": [
    "# 딕셔너리는 좀 다르게 동작\n",
    "dict_1 = {'a':1, 'b': 2}\n",
    "pd.Series(dict_1, index = [10,1])"
   ]
  },
  {
   "cell_type": "code",
   "execution_count": 28,
   "metadata": {},
   "outputs": [
    {
     "data": {
      "text/plain": [
       "1      sally\n",
       "2    wichang\n",
       "dtype: object"
      ]
     },
     "execution_count": 28,
     "metadata": {},
     "output_type": "execute_result"
    }
   ],
   "source": [
    "# 임의의 딕셔너리 데이터\n",
    "# 임의의 리스트 데이터\n",
    "# 각각 시리즈를 만들고 인덱스도 자유롭게 설정\n",
    "import pandas as pd\n",
    "list_sally = ['sally', 'wichang']\n",
    "dict_sally = {'sally': 1, 'wichang': 2}\n",
    "pd.Series(list_sally, index = [1,2])"
   ]
  },
  {
   "cell_type": "code",
   "execution_count": 41,
   "metadata": {},
   "outputs": [
    {
     "data": {
      "text/plain": [
       "Index(['박봄', '유유정', '최봄', '유위창', '최유정', '박위창', '유봄'], dtype='object')"
      ]
     },
     "execution_count": 41,
     "metadata": {},
     "output_type": "execute_result"
    }
   ],
   "source": [
    "import random\n",
    "scores = [random.randint(85,100) for i in range(10)]\n",
    "last_names = ['유','박','최']\n",
    "first_names = ['위창', '유정', '봄']\n",
    "names = [random.choice(last_names) + random.choice(first_names) for i in range(10)]\n",
    "scores, names\n",
    "\n",
    "# dict -> Series\n",
    "\n",
    "temp_dict = dict(list(zip(names, scores)))\n",
    "s = pd.Series(temp_dict)\n",
    "s.index"
   ]
  },
  {
   "cell_type": "code",
   "execution_count": null,
   "metadata": {},
   "outputs": [],
   "source": []
  }
 ],
 "metadata": {
  "colab": {
   "authorship_tag": "ABX9TyMs2eanmNFIbipjw/iv69NH",
   "provenance": []
  },
  "kernelspec": {
   "display_name": "streamlit",
   "language": "python",
   "name": "python3"
  },
  "language_info": {
   "codemirror_mode": {
    "name": "ipython",
    "version": 3
   },
   "file_extension": ".py",
   "mimetype": "text/x-python",
   "name": "python",
   "nbconvert_exporter": "python",
   "pygments_lexer": "ipython3",
   "version": "3.13.7"
  }
 },
 "nbformat": 4,
 "nbformat_minor": 4
}
